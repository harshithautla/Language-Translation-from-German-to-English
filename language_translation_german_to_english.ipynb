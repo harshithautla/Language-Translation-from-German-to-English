{
  "nbformat": 4,
  "nbformat_minor": 0,
  "metadata": {
    "colab": {
      "name": "language_translation_german_to_english.ipynb",
      "provenance": [],
      "collapsed_sections": []
    },
    "kernelspec": {
      "name": "python3",
      "display_name": "Python 3"
    },
    "language_info": {
      "name": "python"
    }
  },
  "cells": [
    {
      "cell_type": "code",
      "metadata": {
        "id": "wvcCQqrCeyLM"
      },
      "source": [
        "import string \n",
        "import re \n",
        "from numpy import array, argmax, random, take\n",
        "import pandas as pd \n",
        "from keras.models import Sequential \n",
        "from keras.layers import Dense, LSTM, Embedding, Bidirectional, RepeatVector, TimeDistributed \n",
        "from keras.preprocessing.text import Tokenizer \n",
        "from keras.callbacks import ModelCheckpoint \n",
        "from keras.preprocessing. sequence import pad_sequences \n",
        "from keras.models import load_model \n",
        "from keras import optimizers \n",
        "import matplotlib.pyplot as plt \n",
        "% matplotlib inline \n",
        "pd.set_option('display.max_colwidth', 200)\n"
      ],
      "execution_count": 70,
      "outputs": []
    },
    {
      "cell_type": "markdown",
      "metadata": {
        "id": "YQxin-MccFYJ"
      },
      "source": [
        "imported necessary packages"
      ]
    },
    {
      "cell_type": "markdown",
      "metadata": {
        "id": "acVhWcp1flgR"
      },
      "source": [
        "reading file using function"
      ]
    },
    {
      "cell_type": "code",
      "metadata": {
        "id": "UACwmYGVgd5p"
      },
      "source": [
        "# function to read raw text file \n",
        "def read_text(filename): \n",
        "# open the file \n",
        "    file = open(filename, mode='rt', encoding='utf-8') \n",
        "# read all text \n",
        "    text = file.read() \n",
        "    file.close() \n",
        "    return text"
      ],
      "execution_count": 47,
      "outputs": []
    },
    {
      "cell_type": "markdown",
      "metadata": {
        "id": "4nqR7wjvi81v"
      },
      "source": [
        "splitting text into english german pairs seperated by '\\n' and then split these pairs into english sentences and german sentences"
      ]
    },
    {
      "cell_type": "code",
      "metadata": {
        "id": "70nDC0lnjtib"
      },
      "source": [
        "#split a text into sentences\n",
        "def to_lines(text):\n",
        "    sents = text.strip().split('\\n')\n",
        "    sents = [i.split('\\t') for i in sents]\n",
        "    return sents\n",
        "    "
      ],
      "execution_count": 94,
      "outputs": []
    },
    {
      "cell_type": "code",
      "metadata": {
        "id": "Doz2b4VnlWIA"
      },
      "source": [
        "data = read_text(\"/content/deu.txt\")\n",
        "deu_eng = to_lines(data)\n",
        "deu_eng = array(deu_eng)"
      ],
      "execution_count": 49,
      "outputs": []
    },
    {
      "cell_type": "markdown",
      "metadata": {
        "id": "G65NyCs2mTT_"
      },
      "source": [
        "actual data contains over 150000 sentence pairs,to reduce training time of model we are going to use 25000 sentence pairs"
      ]
    },
    {
      "cell_type": "code",
      "metadata": {
        "id": "wXni_nb8CT-I"
      },
      "source": [
        "deu_eng = deu_eng[:25000,:]"
      ],
      "execution_count": 52,
      "outputs": []
    },
    {
      "cell_type": "code",
      "metadata": {
        "colab": {
          "base_uri": "https://localhost:8080/"
        },
        "id": "n9Om4S9rmr-o",
        "outputId": "6f3466f5-d790-4e11-a308-d7023627f4cf"
      },
      "source": [
        "#lets take a look at our data\n",
        "deu_eng"
      ],
      "execution_count": 53,
      "outputs": [
        {
          "output_type": "execute_result",
          "data": {
            "text/plain": [
              "array([['Go.', 'Geh.',\n",
              "        'CC-BY 2.0 (France) Attribution: tatoeba.org #2877272 (CM) & #8597805 (Roujin)'],\n",
              "       ['Hi.', 'Hallo!',\n",
              "        'CC-BY 2.0 (France) Attribution: tatoeba.org #538123 (CM) & #380701 (cburgmer)'],\n",
              "       ['Hi.', 'Grüß Gott!',\n",
              "        'CC-BY 2.0 (France) Attribution: tatoeba.org #538123 (CM) & #659813 (Esperantostern)'],\n",
              "       ...,\n",
              "       ['Tom shot a bear.', 'Tom hat einen Bären erschossen.',\n",
              "        'CC-BY 2.0 (France) Attribution: tatoeba.org #2799074 (AlanF_US) & #2477658 (Pfirsichbaeumchen)'],\n",
              "       ['Tom should come.', 'Tom sollte kommen.',\n",
              "        'CC-BY 2.0 (France) Attribution: tatoeba.org #2237751 (CK) & #4823013 (MisterTrouser)'],\n",
              "       ['Tom should know.', 'Tom weiß es sicher.',\n",
              "        'CC-BY 2.0 (France) Attribution: tatoeba.org #2237754 (CK) & #6557528 (raggione)']],\n",
              "      dtype='<U537')"
            ]
          },
          "metadata": {
            "tags": []
          },
          "execution_count": 53
        }
      ]
    },
    {
      "cell_type": "markdown",
      "metadata": {
        "id": "mg9nAD-Sc51-"
      },
      "source": [
        "Text to sequence conversion\n",
        "to feed our data in seq2seq model encoder decoder we will have to convert both input and output sentences into 'integer sequences' of fixed length.\n",
        "before that to visualise the length of the sentences ,we will capture length of all sentences in 2 seperate lists for english and german respectively"
      ]
    },
    {
      "cell_type": "code",
      "metadata": {
        "id": "bNka8QKEm6lL"
      },
      "source": [
        "# empty lists \n",
        "eng_1 = [] \n",
        "deu_1 = [] \n",
        "# populate the lists with sentence lengths \n",
        "for i in deu_eng[:,0]: \n",
        "     eng_1.append(len(i.split()))\n",
        "for i in deu_eng[:,1]: \n",
        "     deu_1.append(len(i.split()))"
      ],
      "execution_count": 54,
      "outputs": []
    },
    {
      "cell_type": "code",
      "metadata": {
        "id": "xbYCXBWYpeuw"
      },
      "source": [
        "length_df = pd.DataFrame({'eng':eng_1,'deu':deu_1})"
      ],
      "execution_count": 55,
      "outputs": []
    },
    {
      "cell_type": "code",
      "metadata": {
        "colab": {
          "base_uri": "https://localhost:8080/",
          "height": 281
        },
        "id": "kUIQSM_7qTYL",
        "outputId": "13569aca-5d65-41cc-8305-9507f6929a16"
      },
      "source": [
        "length_df.hist(bins = 30)\n",
        "plt.show()"
      ],
      "execution_count": 56,
      "outputs": [
        {
          "output_type": "display_data",
          "data": {
            "image/png": "[encoded data removed]",
            "text/plain": [
              "<Figure size 432x288 with 2 Axes>"
            ]
          },
          "metadata": {
            "tags": [],
            "needs_background": "light"
          }
        }
      ]
    },
    {
      "cell_type": "markdown",
      "metadata": {
        "id": "LFdAPlbDrAyr"
      },
      "source": [
        "The maximum length of German sentences is 11 and that of the English phrases is 8 . \n",
        "so lets vectorize our text data using Keras's Tokenizer() class.It will turn our sentences into sequences of integers.then we will pad those integers with zeroes to make all sequences of same length"
      ]
    },
    {
      "cell_type": "code",
      "metadata": {
        "id": "swVSfJrdrP1M"
      },
      "source": [
        "# function to build a tokenizer \n",
        "def tokenization(lines):\n",
        "    tokenizer = Tokenizer() \n",
        "    tokenizer.fit_on_texts(lines) \n",
        "    return tokenizer"
      ],
      "execution_count": 57,
      "outputs": []
    },
    {
      "cell_type": "code",
      "metadata": {
        "colab": {
          "base_uri": "https://localhost:8080/"
        },
        "id": "0SExn7gAsfWm",
        "outputId": "0e8b6507-c705-4910-d6fe-481dd4fe7e95"
      },
      "source": [
        "# prepare english tokenizer \n",
        "eng_tokenizer = tokenization(deu_eng[ :, 0])               \n",
        "eng_vocab_size= len(eng_tokenizer.word_index) + 1 \n",
        "eng_length = 8\n",
        "print('English Vocabulary Size: %d' % eng_vocab_size)"
      ],
      "execution_count": 68,
      "outputs": [
        {
          "output_type": "stream",
          "text": [
            "English Vocabulary Size: 3000\n"
          ],
          "name": "stdout"
        }
      ]
    },
    {
      "cell_type": "code",
      "metadata": {
        "colab": {
          "base_uri": "https://localhost:8080/"
        },
        "id": "TN_lENXYs4IJ",
        "outputId": "94acb933-3e32-4691-dfa7-6650c41affba"
      },
      "source": [
        "# prepare deutch tokenizer \n",
        "deu_tokenizer = tokenization(deu_eng[ :, 1])               \n",
        "deu_vocab_size= len(deu_tokenizer.word_index) + 1 \n",
        "deu_length = 8\n",
        "print('deutch Vocabulary Size: %d' % deu_vocab_size)"
      ],
      "execution_count": 69,
      "outputs": [
        {
          "output_type": "stream",
          "text": [
            "deutch Vocabulary Size: 4731\n"
          ],
          "name": "stdout"
        }
      ]
    },
    {
      "cell_type": "markdown",
      "metadata": {
        "id": "vU94oXOGrDq9"
      },
      "source": [
        "function to prepare sequences,it will also perform sequence padding to maximum sentence length as mentioned above"
      ]
    },
    {
      "cell_type": "code",
      "metadata": {
        "id": "BGILzfG6uTXK"
      },
      "source": [
        "# encode and pad sequences \n",
        "def encode_sequences(tokenizer, length, lines):\n",
        "    # integer encode sequences \n",
        "    seq = tokenizer.texts_to_sequences(lines) \n",
        "    # pad sequences with 0 values \n",
        "    seq = pad_sequences(seq, maxlen=length, padding='post') \n",
        "    return seq"
      ],
      "execution_count": 60,
      "outputs": []
    },
    {
      "cell_type": "markdown",
      "metadata": {
        "id": "Aa47QIs4u01v"
      },
      "source": [
        "MODEL BUILDING\n",
        "\n",
        "we will now split the data into train and test set for model training and evaluation"
      ]
    },
    {
      "cell_type": "code",
      "metadata": {
        "id": "YQ43sh5QvBW0"
      },
      "source": [
        "from sklearn.model_selection import train_test_split \n",
        "train, test = train_test_split(deu_eng, test_size=0.2, random_state = 12)"
      ],
      "execution_count": 61,
      "outputs": []
    },
    {
      "cell_type": "markdown",
      "metadata": {
        "id": "O5cANUT1wIAd"
      },
      "source": [
        "Its time to encode sentences,we will encode german sentences as input sequences and english sentences as target sequences.it will be done for both train and test datasets"
      ]
    },
    {
      "cell_type": "code",
      "metadata": {
        "id": "sD7UcgGEwihz"
      },
      "source": [
        "# prepare training data \n",
        "trainX = encode_sequences(deu_tokenizer, deu_length, train[:, 1]) \n",
        "trainY = encode_sequences(eng_tokenizer, eng_length, train[:, 0])"
      ],
      "execution_count": 62,
      "outputs": []
    },
    {
      "cell_type": "code",
      "metadata": {
        "id": "eIrTgYypw8NX"
      },
      "source": [
        " # prepare validation data \n",
        "testX = encode_sequences(deu_tokenizer, deu_length, test[:, 1]) \n",
        "testY = encode_sequences(eng_tokenizer, eng_length, test[:, 0]) "
      ],
      "execution_count": 63,
      "outputs": []
    },
    {
      "cell_type": "markdown",
      "metadata": {
        "id": "n8SkcDvOxU93"
      },
      "source": [
        "Most important part\n",
        "\n",
        "We are using an Embedding Layer and an LSTM layer as our encoder and another LSTM layer followed by a dense layer as decoder "
      ]
    },
    {
      "cell_type": "code",
      "metadata": {
        "id": "0ibKMCLlydj9"
      },
      "source": [
        "# build NMT model \n",
        "def build_model(in_vocab, out_vocab, in_timesteps, out_timesteps, units): \n",
        "    model = Sequential() \n",
        "    model.add(Embedding(in_vocab, units, input_length=in_timesteps, mask_zero=True))\n",
        "    model.add(LSTM(units))\n",
        "    model.add(RepeatVector(out_timesteps))\n",
        "    model.add(LSTM(units, return_sequences=True)) \n",
        "    model.add(Dense(out_vocab, activation='softmax')) \n",
        "    return model\n",
        "\n"
      ],
      "execution_count": 64,
      "outputs": []
    },
    {
      "cell_type": "markdown",
      "metadata": {
        "id": "GATFz5-izQLm"
      },
      "source": [
        "We are using RMSprop optimizer for this model as it is very good for recurrent neural network(RNN)"
      ]
    },
    {
      "cell_type": "code",
      "metadata": {
        "id": "KJIqU_LHzgy2"
      },
      "source": [
        "model = build_model(deu_vocab_size, eng_vocab_size, deu_length, eng_length, 512)\n",
        "rms = optimizers.RMSprop(learning_rate=0.001) \n",
        "model.compile(optimizer=rms, loss='sparse_categorical_crossentropy')"
      ],
      "execution_count": 79,
      "outputs": []
    },
    {
      "cell_type": "markdown",
      "metadata": {
        "id": "OMMLRqCD0tGT"
      },
      "source": [
        "we have used 'sparse_categorical_crossentropy' as loss function because it allows us to use the target sequences as it is instead of one hot encoded format .One hot encoding the target sequences with such a huge vocabulary that it may consume whole system memory\n",
        ".We will train it for 30 epochs and with a batch size of 512.we will use ModelCheckPoint() to save the best model with lowest validation loss.this is best method over early stopping "
      ]
    },
    {
      "cell_type": "code",
      "metadata": {
        "colab": {
          "base_uri": "https://localhost:8080/"
        },
        "id": "kwxu6BYiXy3M",
        "outputId": "2d536cac-3cc8-4b5c-c9f9-7e69cc8adc94"
      },
      "source": [
        "filename = 'model.hl.24_harshitha' \n",
        "checkpoint = ModelCheckpoint(filename, monitor='val_loss', verbose=1, save_best_only=True, mode='min')\n",
        "history = model.fit(trainX, trainY.reshape(trainY.shape[0], trainY.shape[1], 1),\n",
        "                     epochs=30, batch_size=512, \n",
        "                     validation_split = 0.2, \n",
        "                     callbacks=[checkpoint], verbose=1)"
      ],
      "execution_count": 67,
      "outputs": [
        {
          "output_type": "stream",
          "text": [
            "Epoch 1/30\n",
            "19/19 [==============================] - 47s 2s/step - loss: 3.3122 - val_loss: 2.5049\n",
            "\n",
            "Epoch 00001: val_loss improved from inf to 2.50488, saving model to model.hl.24_harshitha\n"
          ],
          "name": "stdout"
        },
        {
          "output_type": "stream",
          "text": [
            "WARNING:absl:Found untraced functions such as lstm_cell_4_layer_call_and_return_conditional_losses, lstm_cell_4_layer_call_fn, lstm_cell_5_layer_call_and_return_conditional_losses, lstm_cell_5_layer_call_fn, lstm_cell_4_layer_call_fn while saving (showing 5 of 10). These functions will not be directly callable after loading.\n"
          ],
          "name": "stderr"
        },
        {
          "output_type": "stream",
          "text": [
            "INFO:tensorflow:Assets written to: model.hl.24_harshitha/assets\n"
          ],
          "name": "stdout"
        },
        {
          "output_type": "stream",
          "text": [
            "INFO:tensorflow:Assets written to: model.hl.24_harshitha/assets\n"
          ],
          "name": "stderr"
        },
        {
          "output_type": "stream",
          "text": [
            "Epoch 2/30\n",
            "19/19 [==============================] - 45s 2s/step - loss: 2.3495 - val_loss: 2.2475\n",
            "\n",
            "Epoch 00002: val_loss improved from 2.50488 to 2.24745, saving model to model.hl.24_harshitha\n"
          ],
          "name": "stdout"
        },
        {
          "output_type": "stream",
          "text": [
            "WARNING:absl:Found untraced functions such as lstm_cell_4_layer_call_and_return_conditional_losses, lstm_cell_4_layer_call_fn, lstm_cell_5_layer_call_and_return_conditional_losses, lstm_cell_5_layer_call_fn, lstm_cell_4_layer_call_fn while saving (showing 5 of 10). These functions will not be directly callable after loading.\n"
          ],
          "name": "stderr"
        },
        {
          "output_type": "stream",
          "text": [
            "INFO:tensorflow:Assets written to: model.hl.24_harshitha/assets\n"
          ],
          "name": "stdout"
        },
        {
          "output_type": "stream",
          "text": [
            "INFO:tensorflow:Assets written to: model.hl.24_harshitha/assets\n"
          ],
          "name": "stderr"
        },
        {
          "output_type": "stream",
          "text": [
            "Epoch 3/30\n",
            "19/19 [==============================] - 45s 2s/step - loss: 2.1920 - val_loss: 2.2154\n",
            "\n",
            "Epoch 00003: val_loss improved from 2.24745 to 2.21542, saving model to model.hl.24_harshitha\n"
          ],
          "name": "stdout"
        },
        {
          "output_type": "stream",
          "text": [
            "WARNING:absl:Found untraced functions such as lstm_cell_4_layer_call_and_return_conditional_losses, lstm_cell_4_layer_call_fn, lstm_cell_5_layer_call_and_return_conditional_losses, lstm_cell_5_layer_call_fn, lstm_cell_4_layer_call_fn while saving (showing 5 of 10). These functions will not be directly callable after loading.\n"
          ],
          "name": "stderr"
        },
        {
          "output_type": "stream",
          "text": [
            "INFO:tensorflow:Assets written to: model.hl.24_harshitha/assets\n"
          ],
          "name": "stdout"
        },
        {
          "output_type": "stream",
          "text": [
            "INFO:tensorflow:Assets written to: model.hl.24_harshitha/assets\n"
          ],
          "name": "stderr"
        },
        {
          "output_type": "stream",
          "text": [
            "Epoch 4/30\n",
            "19/19 [==============================] - 45s 2s/step - loss: 2.1227 - val_loss: 2.1734\n",
            "\n",
            "Epoch 00004: val_loss improved from 2.21542 to 2.17337, saving model to model.hl.24_harshitha\n"
          ],
          "name": "stdout"
        },
        {
          "output_type": "stream",
          "text": [
            "WARNING:absl:Found untraced functions such as lstm_cell_4_layer_call_and_return_conditional_losses, lstm_cell_4_layer_call_fn, lstm_cell_5_layer_call_and_return_conditional_losses, lstm_cell_5_layer_call_fn, lstm_cell_4_layer_call_fn while saving (showing 5 of 10). These functions will not be directly callable after loading.\n"
          ],
          "name": "stderr"
        },
        {
          "output_type": "stream",
          "text": [
            "INFO:tensorflow:Assets written to: model.hl.24_harshitha/assets\n"
          ],
          "name": "stdout"
        },
        {
          "output_type": "stream",
          "text": [
            "INFO:tensorflow:Assets written to: model.hl.24_harshitha/assets\n"
          ],
          "name": "stderr"
        },
        {
          "output_type": "stream",
          "text": [
            "Epoch 5/30\n",
            "19/19 [==============================] - 45s 2s/step - loss: 2.0899 - val_loss: 2.1630\n",
            "\n",
            "Epoch 00005: val_loss improved from 2.17337 to 2.16301, saving model to model.hl.24_harshitha\n"
          ],
          "name": "stdout"
        },
        {
          "output_type": "stream",
          "text": [
            "WARNING:absl:Found untraced functions such as lstm_cell_4_layer_call_and_return_conditional_losses, lstm_cell_4_layer_call_fn, lstm_cell_5_layer_call_and_return_conditional_losses, lstm_cell_5_layer_call_fn, lstm_cell_4_layer_call_fn while saving (showing 5 of 10). These functions will not be directly callable after loading.\n"
          ],
          "name": "stderr"
        },
        {
          "output_type": "stream",
          "text": [
            "INFO:tensorflow:Assets written to: model.hl.24_harshitha/assets\n"
          ],
          "name": "stdout"
        },
        {
          "output_type": "stream",
          "text": [
            "INFO:tensorflow:Assets written to: model.hl.24_harshitha/assets\n"
          ],
          "name": "stderr"
        },
        {
          "output_type": "stream",
          "text": [
            "Epoch 6/30\n",
            "19/19 [==============================] - 45s 2s/step - loss: 2.0466 - val_loss: 2.1526\n",
            "\n",
            "Epoch 00006: val_loss improved from 2.16301 to 2.15261, saving model to model.hl.24_harshitha\n"
          ],
          "name": "stdout"
        },
        {
          "output_type": "stream",
          "text": [
            "WARNING:absl:Found untraced functions such as lstm_cell_4_layer_call_and_return_conditional_losses, lstm_cell_4_layer_call_fn, lstm_cell_5_layer_call_and_return_conditional_losses, lstm_cell_5_layer_call_fn, lstm_cell_4_layer_call_fn while saving (showing 5 of 10). These functions will not be directly callable after loading.\n"
          ],
          "name": "stderr"
        },
        {
          "output_type": "stream",
          "text": [
            "INFO:tensorflow:Assets written to: model.hl.24_harshitha/assets\n"
          ],
          "name": "stdout"
        },
        {
          "output_type": "stream",
          "text": [
            "INFO:tensorflow:Assets written to: model.hl.24_harshitha/assets\n"
          ],
          "name": "stderr"
        },
        {
          "output_type": "stream",
          "text": [
            "Epoch 7/30\n",
            "19/19 [==============================] - 45s 2s/step - loss: 1.9789 - val_loss: 2.0895\n",
            "\n",
            "Epoch 00007: val_loss improved from 2.15261 to 2.08948, saving model to model.hl.24_harshitha\n"
          ],
          "name": "stdout"
        },
        {
          "output_type": "stream",
          "text": [
            "WARNING:absl:Found untraced functions such as lstm_cell_4_layer_call_and_return_conditional_losses, lstm_cell_4_layer_call_fn, lstm_cell_5_layer_call_and_return_conditional_losses, lstm_cell_5_layer_call_fn, lstm_cell_4_layer_call_fn while saving (showing 5 of 10). These functions will not be directly callable after loading.\n"
          ],
          "name": "stderr"
        },
        {
          "output_type": "stream",
          "text": [
            "INFO:tensorflow:Assets written to: model.hl.24_harshitha/assets\n"
          ],
          "name": "stdout"
        },
        {
          "output_type": "stream",
          "text": [
            "INFO:tensorflow:Assets written to: model.hl.24_harshitha/assets\n"
          ],
          "name": "stderr"
        },
        {
          "output_type": "stream",
          "text": [
            "Epoch 8/30\n",
            "19/19 [==============================] - 44s 2s/step - loss: 1.9080 - val_loss: 2.0007\n",
            "\n",
            "Epoch 00008: val_loss improved from 2.08948 to 2.00070, saving model to model.hl.24_harshitha\n"
          ],
          "name": "stdout"
        },
        {
          "output_type": "stream",
          "text": [
            "WARNING:absl:Found untraced functions such as lstm_cell_4_layer_call_and_return_conditional_losses, lstm_cell_4_layer_call_fn, lstm_cell_5_layer_call_and_return_conditional_losses, lstm_cell_5_layer_call_fn, lstm_cell_4_layer_call_fn while saving (showing 5 of 10). These functions will not be directly callable after loading.\n"
          ],
          "name": "stderr"
        },
        {
          "output_type": "stream",
          "text": [
            "INFO:tensorflow:Assets written to: model.hl.24_harshitha/assets\n"
          ],
          "name": "stdout"
        },
        {
          "output_type": "stream",
          "text": [
            "INFO:tensorflow:Assets written to: model.hl.24_harshitha/assets\n"
          ],
          "name": "stderr"
        },
        {
          "output_type": "stream",
          "text": [
            "Epoch 9/30\n",
            "19/19 [==============================] - 44s 2s/step - loss: 1.8284 - val_loss: 2.0096\n",
            "\n",
            "Epoch 00009: val_loss did not improve from 2.00070\n",
            "Epoch 10/30\n",
            "19/19 [==============================] - 44s 2s/step - loss: 1.7688 - val_loss: 1.9331\n",
            "\n",
            "Epoch 00010: val_loss improved from 2.00070 to 1.93306, saving model to model.hl.24_harshitha\n"
          ],
          "name": "stdout"
        },
        {
          "output_type": "stream",
          "text": [
            "WARNING:absl:Found untraced functions such as lstm_cell_4_layer_call_and_return_conditional_losses, lstm_cell_4_layer_call_fn, lstm_cell_5_layer_call_and_return_conditional_losses, lstm_cell_5_layer_call_fn, lstm_cell_4_layer_call_fn while saving (showing 5 of 10). These functions will not be directly callable after loading.\n"
          ],
          "name": "stderr"
        },
        {
          "output_type": "stream",
          "text": [
            "INFO:tensorflow:Assets written to: model.hl.24_harshitha/assets\n"
          ],
          "name": "stdout"
        },
        {
          "output_type": "stream",
          "text": [
            "INFO:tensorflow:Assets written to: model.hl.24_harshitha/assets\n"
          ],
          "name": "stderr"
        },
        {
          "output_type": "stream",
          "text": [
            "Epoch 11/30\n",
            "19/19 [==============================] - 44s 2s/step - loss: 1.7063 - val_loss: 1.8957\n",
            "\n",
            "Epoch 00011: val_loss improved from 1.93306 to 1.89573, saving model to model.hl.24_harshitha\n"
          ],
          "name": "stdout"
        },
        {
          "output_type": "stream",
          "text": [
            "WARNING:absl:Found untraced functions such as lstm_cell_4_layer_call_and_return_conditional_losses, lstm_cell_4_layer_call_fn, lstm_cell_5_layer_call_and_return_conditional_losses, lstm_cell_5_layer_call_fn, lstm_cell_4_layer_call_fn while saving (showing 5 of 10). These functions will not be directly callable after loading.\n"
          ],
          "name": "stderr"
        },
        {
          "output_type": "stream",
          "text": [
            "INFO:tensorflow:Assets written to: model.hl.24_harshitha/assets\n"
          ],
          "name": "stdout"
        },
        {
          "output_type": "stream",
          "text": [
            "INFO:tensorflow:Assets written to: model.hl.24_harshitha/assets\n"
          ],
          "name": "stderr"
        },
        {
          "output_type": "stream",
          "text": [
            "Epoch 12/30\n",
            "19/19 [==============================] - 45s 2s/step - loss: 1.6509 - val_loss: 1.8789\n",
            "\n",
            "Epoch 00012: val_loss improved from 1.89573 to 1.87888, saving model to model.hl.24_harshitha\n"
          ],
          "name": "stdout"
        },
        {
          "output_type": "stream",
          "text": [
            "WARNING:absl:Found untraced functions such as lstm_cell_4_layer_call_and_return_conditional_losses, lstm_cell_4_layer_call_fn, lstm_cell_5_layer_call_and_return_conditional_losses, lstm_cell_5_layer_call_fn, lstm_cell_4_layer_call_fn while saving (showing 5 of 10). These functions will not be directly callable after loading.\n"
          ],
          "name": "stderr"
        },
        {
          "output_type": "stream",
          "text": [
            "INFO:tensorflow:Assets written to: model.hl.24_harshitha/assets\n"
          ],
          "name": "stdout"
        },
        {
          "output_type": "stream",
          "text": [
            "INFO:tensorflow:Assets written to: model.hl.24_harshitha/assets\n"
          ],
          "name": "stderr"
        },
        {
          "output_type": "stream",
          "text": [
            "Epoch 13/30\n",
            "19/19 [==============================] - 45s 2s/step - loss: 1.6037 - val_loss: 1.8378\n",
            "\n",
            "Epoch 00013: val_loss improved from 1.87888 to 1.83779, saving model to model.hl.24_harshitha\n"
          ],
          "name": "stdout"
        },
        {
          "output_type": "stream",
          "text": [
            "WARNING:absl:Found untraced functions such as lstm_cell_4_layer_call_and_return_conditional_losses, lstm_cell_4_layer_call_fn, lstm_cell_5_layer_call_and_return_conditional_losses, lstm_cell_5_layer_call_fn, lstm_cell_4_layer_call_fn while saving (showing 5 of 10). These functions will not be directly callable after loading.\n"
          ],
          "name": "stderr"
        },
        {
          "output_type": "stream",
          "text": [
            "INFO:tensorflow:Assets written to: model.hl.24_harshitha/assets\n"
          ],
          "name": "stdout"
        },
        {
          "output_type": "stream",
          "text": [
            "INFO:tensorflow:Assets written to: model.hl.24_harshitha/assets\n"
          ],
          "name": "stderr"
        },
        {
          "output_type": "stream",
          "text": [
            "Epoch 14/30\n",
            "19/19 [==============================] - 45s 2s/step - loss: 1.5541 - val_loss: 1.8159\n",
            "\n",
            "Epoch 00014: val_loss improved from 1.83779 to 1.81588, saving model to model.hl.24_harshitha\n"
          ],
          "name": "stdout"
        },
        {
          "output_type": "stream",
          "text": [
            "WARNING:absl:Found untraced functions such as lstm_cell_4_layer_call_and_return_conditional_losses, lstm_cell_4_layer_call_fn, lstm_cell_5_layer_call_and_return_conditional_losses, lstm_cell_5_layer_call_fn, lstm_cell_4_layer_call_fn while saving (showing 5 of 10). These functions will not be directly callable after loading.\n"
          ],
          "name": "stderr"
        },
        {
          "output_type": "stream",
          "text": [
            "INFO:tensorflow:Assets written to: model.hl.24_harshitha/assets\n"
          ],
          "name": "stdout"
        },
        {
          "output_type": "stream",
          "text": [
            "INFO:tensorflow:Assets written to: model.hl.24_harshitha/assets\n"
          ],
          "name": "stderr"
        },
        {
          "output_type": "stream",
          "text": [
            "Epoch 15/30\n",
            "19/19 [==============================] - 44s 2s/step - loss: 1.5022 - val_loss: 1.7977\n",
            "\n",
            "Epoch 00015: val_loss improved from 1.81588 to 1.79773, saving model to model.hl.24_harshitha\n"
          ],
          "name": "stdout"
        },
        {
          "output_type": "stream",
          "text": [
            "WARNING:absl:Found untraced functions such as lstm_cell_4_layer_call_and_return_conditional_losses, lstm_cell_4_layer_call_fn, lstm_cell_5_layer_call_and_return_conditional_losses, lstm_cell_5_layer_call_fn, lstm_cell_4_layer_call_fn while saving (showing 5 of 10). These functions will not be directly callable after loading.\n"
          ],
          "name": "stderr"
        },
        {
          "output_type": "stream",
          "text": [
            "INFO:tensorflow:Assets written to: model.hl.24_harshitha/assets\n"
          ],
          "name": "stdout"
        },
        {
          "output_type": "stream",
          "text": [
            "INFO:tensorflow:Assets written to: model.hl.24_harshitha/assets\n"
          ],
          "name": "stderr"
        },
        {
          "output_type": "stream",
          "text": [
            "Epoch 16/30\n",
            "19/19 [==============================] - 45s 2s/step - loss: 1.4537 - val_loss: 1.7673\n",
            "\n",
            "Epoch 00016: val_loss improved from 1.79773 to 1.76732, saving model to model.hl.24_harshitha\n"
          ],
          "name": "stdout"
        },
        {
          "output_type": "stream",
          "text": [
            "WARNING:absl:Found untraced functions such as lstm_cell_4_layer_call_and_return_conditional_losses, lstm_cell_4_layer_call_fn, lstm_cell_5_layer_call_and_return_conditional_losses, lstm_cell_5_layer_call_fn, lstm_cell_4_layer_call_fn while saving (showing 5 of 10). These functions will not be directly callable after loading.\n"
          ],
          "name": "stderr"
        },
        {
          "output_type": "stream",
          "text": [
            "INFO:tensorflow:Assets written to: model.hl.24_harshitha/assets\n"
          ],
          "name": "stdout"
        },
        {
          "output_type": "stream",
          "text": [
            "INFO:tensorflow:Assets written to: model.hl.24_harshitha/assets\n"
          ],
          "name": "stderr"
        },
        {
          "output_type": "stream",
          "text": [
            "Epoch 17/30\n",
            "19/19 [==============================] - 45s 2s/step - loss: 1.4012 - val_loss: 1.7451\n",
            "\n",
            "Epoch 00017: val_loss improved from 1.76732 to 1.74510, saving model to model.hl.24_harshitha\n"
          ],
          "name": "stdout"
        },
        {
          "output_type": "stream",
          "text": [
            "WARNING:absl:Found untraced functions such as lstm_cell_4_layer_call_and_return_conditional_losses, lstm_cell_4_layer_call_fn, lstm_cell_5_layer_call_and_return_conditional_losses, lstm_cell_5_layer_call_fn, lstm_cell_4_layer_call_fn while saving (showing 5 of 10). These functions will not be directly callable after loading.\n"
          ],
          "name": "stderr"
        },
        {
          "output_type": "stream",
          "text": [
            "INFO:tensorflow:Assets written to: model.hl.24_harshitha/assets\n"
          ],
          "name": "stdout"
        },
        {
          "output_type": "stream",
          "text": [
            "INFO:tensorflow:Assets written to: model.hl.24_harshitha/assets\n"
          ],
          "name": "stderr"
        },
        {
          "output_type": "stream",
          "text": [
            "Epoch 18/30\n",
            "19/19 [==============================] - 46s 2s/step - loss: 1.3564 - val_loss: 1.7172\n",
            "\n",
            "Epoch 00018: val_loss improved from 1.74510 to 1.71716, saving model to model.hl.24_harshitha\n"
          ],
          "name": "stdout"
        },
        {
          "output_type": "stream",
          "text": [
            "WARNING:absl:Found untraced functions such as lstm_cell_4_layer_call_and_return_conditional_losses, lstm_cell_4_layer_call_fn, lstm_cell_5_layer_call_and_return_conditional_losses, lstm_cell_5_layer_call_fn, lstm_cell_4_layer_call_fn while saving (showing 5 of 10). These functions will not be directly callable after loading.\n"
          ],
          "name": "stderr"
        },
        {
          "output_type": "stream",
          "text": [
            "INFO:tensorflow:Assets written to: model.hl.24_harshitha/assets\n"
          ],
          "name": "stdout"
        },
        {
          "output_type": "stream",
          "text": [
            "INFO:tensorflow:Assets written to: model.hl.24_harshitha/assets\n"
          ],
          "name": "stderr"
        },
        {
          "output_type": "stream",
          "text": [
            "Epoch 19/30\n",
            "19/19 [==============================] - 45s 2s/step - loss: 1.3108 - val_loss: 1.7030\n",
            "\n",
            "Epoch 00019: val_loss improved from 1.71716 to 1.70303, saving model to model.hl.24_harshitha\n"
          ],
          "name": "stdout"
        },
        {
          "output_type": "stream",
          "text": [
            "WARNING:absl:Found untraced functions such as lstm_cell_4_layer_call_and_return_conditional_losses, lstm_cell_4_layer_call_fn, lstm_cell_5_layer_call_and_return_conditional_losses, lstm_cell_5_layer_call_fn, lstm_cell_4_layer_call_fn while saving (showing 5 of 10). These functions will not be directly callable after loading.\n"
          ],
          "name": "stderr"
        },
        {
          "output_type": "stream",
          "text": [
            "INFO:tensorflow:Assets written to: model.hl.24_harshitha/assets\n"
          ],
          "name": "stdout"
        },
        {
          "output_type": "stream",
          "text": [
            "INFO:tensorflow:Assets written to: model.hl.24_harshitha/assets\n"
          ],
          "name": "stderr"
        },
        {
          "output_type": "stream",
          "text": [
            "Epoch 20/30\n",
            "19/19 [==============================] - 45s 2s/step - loss: 1.2622 - val_loss: 1.6978\n",
            "\n",
            "Epoch 00020: val_loss improved from 1.70303 to 1.69777, saving model to model.hl.24_harshitha\n"
          ],
          "name": "stdout"
        },
        {
          "output_type": "stream",
          "text": [
            "WARNING:absl:Found untraced functions such as lstm_cell_4_layer_call_and_return_conditional_losses, lstm_cell_4_layer_call_fn, lstm_cell_5_layer_call_and_return_conditional_losses, lstm_cell_5_layer_call_fn, lstm_cell_4_layer_call_fn while saving (showing 5 of 10). These functions will not be directly callable after loading.\n"
          ],
          "name": "stderr"
        },
        {
          "output_type": "stream",
          "text": [
            "INFO:tensorflow:Assets written to: model.hl.24_harshitha/assets\n"
          ],
          "name": "stdout"
        },
        {
          "output_type": "stream",
          "text": [
            "INFO:tensorflow:Assets written to: model.hl.24_harshitha/assets\n"
          ],
          "name": "stderr"
        },
        {
          "output_type": "stream",
          "text": [
            "Epoch 21/30\n",
            "19/19 [==============================] - 45s 2s/step - loss: 1.2233 - val_loss: 1.6531\n",
            "\n",
            "Epoch 00021: val_loss improved from 1.69777 to 1.65307, saving model to model.hl.24_harshitha\n"
          ],
          "name": "stdout"
        },
        {
          "output_type": "stream",
          "text": [
            "WARNING:absl:Found untraced functions such as lstm_cell_4_layer_call_and_return_conditional_losses, lstm_cell_4_layer_call_fn, lstm_cell_5_layer_call_and_return_conditional_losses, lstm_cell_5_layer_call_fn, lstm_cell_4_layer_call_fn while saving (showing 5 of 10). These functions will not be directly callable after loading.\n"
          ],
          "name": "stderr"
        },
        {
          "output_type": "stream",
          "text": [
            "INFO:tensorflow:Assets written to: model.hl.24_harshitha/assets\n"
          ],
          "name": "stdout"
        },
        {
          "output_type": "stream",
          "text": [
            "INFO:tensorflow:Assets written to: model.hl.24_harshitha/assets\n"
          ],
          "name": "stderr"
        },
        {
          "output_type": "stream",
          "text": [
            "Epoch 22/30\n",
            "19/19 [==============================] - 45s 2s/step - loss: 1.1799 - val_loss: 1.6423\n",
            "\n",
            "Epoch 00022: val_loss improved from 1.65307 to 1.64235, saving model to model.hl.24_harshitha\n"
          ],
          "name": "stdout"
        },
        {
          "output_type": "stream",
          "text": [
            "WARNING:absl:Found untraced functions such as lstm_cell_4_layer_call_and_return_conditional_losses, lstm_cell_4_layer_call_fn, lstm_cell_5_layer_call_and_return_conditional_losses, lstm_cell_5_layer_call_fn, lstm_cell_4_layer_call_fn while saving (showing 5 of 10). These functions will not be directly callable after loading.\n"
          ],
          "name": "stderr"
        },
        {
          "output_type": "stream",
          "text": [
            "INFO:tensorflow:Assets written to: model.hl.24_harshitha/assets\n"
          ],
          "name": "stdout"
        },
        {
          "output_type": "stream",
          "text": [
            "INFO:tensorflow:Assets written to: model.hl.24_harshitha/assets\n"
          ],
          "name": "stderr"
        },
        {
          "output_type": "stream",
          "text": [
            "Epoch 23/30\n",
            "19/19 [==============================] - 45s 2s/step - loss: 1.1432 - val_loss: 1.6289\n",
            "\n",
            "Epoch 00023: val_loss improved from 1.64235 to 1.62891, saving model to model.hl.24_harshitha\n"
          ],
          "name": "stdout"
        },
        {
          "output_type": "stream",
          "text": [
            "WARNING:absl:Found untraced functions such as lstm_cell_4_layer_call_and_return_conditional_losses, lstm_cell_4_layer_call_fn, lstm_cell_5_layer_call_and_return_conditional_losses, lstm_cell_5_layer_call_fn, lstm_cell_4_layer_call_fn while saving (showing 5 of 10). These functions will not be directly callable after loading.\n"
          ],
          "name": "stderr"
        },
        {
          "output_type": "stream",
          "text": [
            "INFO:tensorflow:Assets written to: model.hl.24_harshitha/assets\n"
          ],
          "name": "stdout"
        },
        {
          "output_type": "stream",
          "text": [
            "INFO:tensorflow:Assets written to: model.hl.24_harshitha/assets\n"
          ],
          "name": "stderr"
        },
        {
          "output_type": "stream",
          "text": [
            "Epoch 24/30\n",
            "19/19 [==============================] - 45s 2s/step - loss: 1.0977 - val_loss: 1.6310\n",
            "\n",
            "Epoch 00024: val_loss did not improve from 1.62891\n",
            "Epoch 25/30\n",
            "19/19 [==============================] - 45s 2s/step - loss: 1.0632 - val_loss: 1.6034\n",
            "\n",
            "Epoch 00025: val_loss improved from 1.62891 to 1.60345, saving model to model.hl.24_harshitha\n"
          ],
          "name": "stdout"
        },
        {
          "output_type": "stream",
          "text": [
            "WARNING:absl:Found untraced functions such as lstm_cell_4_layer_call_and_return_conditional_losses, lstm_cell_4_layer_call_fn, lstm_cell_5_layer_call_and_return_conditional_losses, lstm_cell_5_layer_call_fn, lstm_cell_4_layer_call_fn while saving (showing 5 of 10). These functions will not be directly callable after loading.\n"
          ],
          "name": "stderr"
        },
        {
          "output_type": "stream",
          "text": [
            "INFO:tensorflow:Assets written to: model.hl.24_harshitha/assets\n"
          ],
          "name": "stdout"
        },
        {
          "output_type": "stream",
          "text": [
            "INFO:tensorflow:Assets written to: model.hl.24_harshitha/assets\n"
          ],
          "name": "stderr"
        },
        {
          "output_type": "stream",
          "text": [
            "Epoch 26/30\n",
            "19/19 [==============================] - 45s 2s/step - loss: 1.0314 - val_loss: 1.6056\n",
            "\n",
            "Epoch 00026: val_loss did not improve from 1.60345\n",
            "Epoch 27/30\n",
            "19/19 [==============================] - 44s 2s/step - loss: 0.9942 - val_loss: 1.5779\n",
            "\n",
            "Epoch 00027: val_loss improved from 1.60345 to 1.57788, saving model to model.hl.24_harshitha\n"
          ],
          "name": "stdout"
        },
        {
          "output_type": "stream",
          "text": [
            "WARNING:absl:Found untraced functions such as lstm_cell_4_layer_call_and_return_conditional_losses, lstm_cell_4_layer_call_fn, lstm_cell_5_layer_call_and_return_conditional_losses, lstm_cell_5_layer_call_fn, lstm_cell_4_layer_call_fn while saving (showing 5 of 10). These functions will not be directly callable after loading.\n"
          ],
          "name": "stderr"
        },
        {
          "output_type": "stream",
          "text": [
            "INFO:tensorflow:Assets written to: model.hl.24_harshitha/assets\n"
          ],
          "name": "stdout"
        },
        {
          "output_type": "stream",
          "text": [
            "INFO:tensorflow:Assets written to: model.hl.24_harshitha/assets\n"
          ],
          "name": "stderr"
        },
        {
          "output_type": "stream",
          "text": [
            "Epoch 28/30\n",
            "19/19 [==============================] - 44s 2s/step - loss: 0.9606 - val_loss: 1.5528\n",
            "\n",
            "Epoch 00028: val_loss improved from 1.57788 to 1.55276, saving model to model.hl.24_harshitha\n"
          ],
          "name": "stdout"
        },
        {
          "output_type": "stream",
          "text": [
            "WARNING:absl:Found untraced functions such as lstm_cell_4_layer_call_and_return_conditional_losses, lstm_cell_4_layer_call_fn, lstm_cell_5_layer_call_and_return_conditional_losses, lstm_cell_5_layer_call_fn, lstm_cell_4_layer_call_fn while saving (showing 5 of 10). These functions will not be directly callable after loading.\n"
          ],
          "name": "stderr"
        },
        {
          "output_type": "stream",
          "text": [
            "INFO:tensorflow:Assets written to: model.hl.24_harshitha/assets\n"
          ],
          "name": "stdout"
        },
        {
          "output_type": "stream",
          "text": [
            "INFO:tensorflow:Assets written to: model.hl.24_harshitha/assets\n"
          ],
          "name": "stderr"
        },
        {
          "output_type": "stream",
          "text": [
            "Epoch 29/30\n",
            "19/19 [==============================] - 45s 2s/step - loss: 0.9239 - val_loss: 1.5412\n",
            "\n",
            "Epoch 00029: val_loss improved from 1.55276 to 1.54115, saving model to model.hl.24_harshitha\n"
          ],
          "name": "stdout"
        },
        {
          "output_type": "stream",
          "text": [
            "WARNING:absl:Found untraced functions such as lstm_cell_4_layer_call_and_return_conditional_losses, lstm_cell_4_layer_call_fn, lstm_cell_5_layer_call_and_return_conditional_losses, lstm_cell_5_layer_call_fn, lstm_cell_4_layer_call_fn while saving (showing 5 of 10). These functions will not be directly callable after loading.\n"
          ],
          "name": "stderr"
        },
        {
          "output_type": "stream",
          "text": [
            "INFO:tensorflow:Assets written to: model.hl.24_harshitha/assets\n"
          ],
          "name": "stdout"
        },
        {
          "output_type": "stream",
          "text": [
            "INFO:tensorflow:Assets written to: model.hl.24_harshitha/assets\n"
          ],
          "name": "stderr"
        },
        {
          "output_type": "stream",
          "text": [
            "Epoch 30/30\n",
            "19/19 [==============================] - 44s 2s/step - loss: 0.8911 - val_loss: 1.5547\n",
            "\n",
            "Epoch 00030: val_loss did not improve from 1.54115\n"
          ],
          "name": "stdout"
        }
      ]
    },
    {
      "cell_type": "markdown",
      "metadata": {
        "id": "1w9PmymE3K-u"
      },
      "source": [
        "lets compare the training loss and the validation loss"
      ]
    },
    {
      "cell_type": "code",
      "metadata": {
        "colab": {
          "base_uri": "https://localhost:8080/",
          "height": 265
        },
        "id": "N5GlotjIHAjY",
        "outputId": "1638cd59-8f0c-40fb-a7e3-04243ff4b6f9"
      },
      "source": [
        "\n",
        "plt.plot(history.history['loss'])\n",
        "plt.plot(history.history['val_loss']) \n",
        "plt.legend(['train', 'validation']) \n",
        "plt.show()"
      ],
      "execution_count": 71,
      "outputs": [
        {
          "output_type": "display_data",
          "data": {
            "image/png": "[encoded data removed]",
            "text/plain": [
              "<Figure size 432x288 with 1 Axes>"
            ]
          },
          "metadata": {
            "tags": [],
            "needs_background": "light"
          }
        }
      ]
    },
    {
      "cell_type": "markdown",
      "metadata": {
        "id": "n3-lJPP23SUf"
      },
      "source": [
        "Lets load the saved model to make predictions"
      ]
    },
    {
      "cell_type": "code",
      "metadata": {
        "colab": {
          "base_uri": "https://localhost:8080/"
        },
        "id": "dnS9B4JHm-Qq",
        "outputId": "a8bd202b-99cf-4a3c-966a-dd949ac504e9"
      },
      "source": [
        "model = load_model('model.hl.24_harshitha/')\n",
        "preds = model.predict_classes(testX.reshape((testX.shape[0],testX.shape[1])))\n"
      ],
      "execution_count": 86,
      "outputs": [
        {
          "output_type": "stream",
          "text": [
            "/usr/local/lib/python3.7/dist-packages/keras/engine/sequential.py:450: UserWarning: `model.predict_classes()` is deprecated and will be removed after 2021-01-01. Please use instead:* `np.argmax(model.predict(x), axis=-1)`,   if your model does multi-class classification   (e.g. if it uses a `softmax` last-layer activation).* `(model.predict(x) > 0.5).astype(\"int32\")`,   if your model does binary classification   (e.g. if it uses a `sigmoid` last-layer activation).\n",
            "  warnings.warn('`model.predict_classes()` is deprecated and '\n"
          ],
          "name": "stderr"
        }
      ]
    },
    {
      "cell_type": "code",
      "metadata": {
        "id": "mcxoYBuZJoXK"
      },
      "source": [
        "def get_word(n, tokenizer): \n",
        "    for word, index in tokenizer.word_index.items(): \n",
        "        if index == n: \n",
        "           return word\n",
        "    return None"
      ],
      "execution_count": 73,
      "outputs": []
    },
    {
      "cell_type": "code",
      "metadata": {
        "id": "ODgx-j6OKFf0"
      },
      "source": [
        "#convert predictions into text (English)\n",
        "preds_text = [] \n",
        "for i in preds: \n",
        "    temp = [ ] \n",
        "    for j in range(len(i)): \n",
        "        t = get_word(i[j], eng_tokenizer) \n",
        "        if j > 0: \n",
        "            if (t == get_word(i[j-1], eng_tokenizer)) or (t == None): \n",
        "              temp.append(' ') \n",
        "            else:\n",
        "              temp.append(t)\n",
        "        else:\n",
        "            if (t == None):\n",
        "               temp.append(' ') \n",
        "            else: \n",
        "               temp.append(t) \n",
        "    preds_text.append(' '.join(temp))  "
      ],
      "execution_count": 100,
      "outputs": []
    },
    {
      "cell_type": "code",
      "metadata": {
        "id": "3hgvxE_RSUEj"
      },
      "source": [
        "pred_df = pd.DataFrame({'actual' : test[:,0], 'predicted' : preds_text})"
      ],
      "execution_count": 101,
      "outputs": []
    },
    {
      "cell_type": "code",
      "metadata": {
        "id": "U-mz7YPYSnyy"
      },
      "source": [
        " pd.set_option('display.max_colwidth', 200) "
      ],
      "execution_count": 102,
      "outputs": []
    },
    {
      "cell_type": "markdown",
      "metadata": {
        "id": "YTFu7AsfrDID"
      },
      "source": [
        "checking first 15 sentences actual and predicted"
      ]
    },
    {
      "cell_type": "code",
      "metadata": {
        "colab": {
          "base_uri": "https://localhost:8080/",
          "height": 519
        },
        "id": "ouVezFp0StSj",
        "outputId": "f3275b7b-4ef7-43bd-e397-bcef9764fddc"
      },
      "source": [
        "pred_df.head(15)"
      ],
      "execution_count": 103,
      "outputs": [
        {
          "output_type": "execute_result",
          "data": {
            "text/html": [
              "<div>\n",
              "<style scoped>\n",
              "    .dataframe tbody tr th:only-of-type {\n",
              "        vertical-align: middle;\n",
              "    }\n",
              "\n",
              "    .dataframe tbody tr th {\n",
              "        vertical-align: top;\n",
              "    }\n",
              "\n",
              "    .dataframe thead th {\n",
              "        text-align: right;\n",
              "    }\n",
              "</style>\n",
              "<table border=\"1\" class=\"dataframe\">\n",
              "  <thead>\n",
              "    <tr style=\"text-align: right;\">\n",
              "      <th></th>\n",
              "      <th>actual</th>\n",
              "      <th>predicted</th>\n",
              "    </tr>\n",
              "  </thead>\n",
              "  <tbody>\n",
              "    <tr>\n",
              "      <th>0</th>\n",
              "      <td>I like rice.</td>\n",
              "      <td>i like coffee</td>\n",
              "    </tr>\n",
              "    <tr>\n",
              "      <th>1</th>\n",
              "      <td>I'll check that.</td>\n",
              "      <td>i'll be it</td>\n",
              "    </tr>\n",
              "    <tr>\n",
              "      <th>2</th>\n",
              "      <td>Tom's strict.</td>\n",
              "      <td>tom is</td>\n",
              "    </tr>\n",
              "    <tr>\n",
              "      <th>3</th>\n",
              "      <td>I'm too young.</td>\n",
              "      <td>i'm not</td>\n",
              "    </tr>\n",
              "    <tr>\n",
              "      <th>4</th>\n",
              "      <td>It's water.</td>\n",
              "      <td>it's is water</td>\n",
              "    </tr>\n",
              "    <tr>\n",
              "      <th>5</th>\n",
              "      <td>He was invited.</td>\n",
              "      <td>he was</td>\n",
              "    </tr>\n",
              "    <tr>\n",
              "      <th>6</th>\n",
              "      <td>Here she comes.</td>\n",
              "      <td>come in here</td>\n",
              "    </tr>\n",
              "    <tr>\n",
              "      <th>7</th>\n",
              "      <td>I freaked out.</td>\n",
              "      <td>i'm am</td>\n",
              "    </tr>\n",
              "    <tr>\n",
              "      <th>8</th>\n",
              "      <td>Be objective.</td>\n",
              "      <td>it's everything</td>\n",
              "    </tr>\n",
              "    <tr>\n",
              "      <th>9</th>\n",
              "      <td>Dinner is ready.</td>\n",
              "      <td>it's is</td>\n",
              "    </tr>\n",
              "    <tr>\n",
              "      <th>10</th>\n",
              "      <td>Do you deny it?</td>\n",
              "      <td>you're it</td>\n",
              "    </tr>\n",
              "    <tr>\n",
              "      <th>11</th>\n",
              "      <td>It is up to you.</td>\n",
              "      <td>it do know</td>\n",
              "    </tr>\n",
              "    <tr>\n",
              "      <th>12</th>\n",
              "      <td>That's milk.</td>\n",
              "      <td>it's is</td>\n",
              "    </tr>\n",
              "    <tr>\n",
              "      <th>13</th>\n",
              "      <td>Did you miss me?</td>\n",
              "      <td>do i see</td>\n",
              "    </tr>\n",
              "    <tr>\n",
              "      <th>14</th>\n",
              "      <td>I was scared.</td>\n",
              "      <td>i went it</td>\n",
              "    </tr>\n",
              "  </tbody>\n",
              "</table>\n",
              "</div>"
            ],
            "text/plain": [
              "              actual                    predicted\n",
              "0       I like rice.      i like coffee          \n",
              "1   I'll check that.         i'll be it          \n",
              "2      Tom's strict.           tom is            \n",
              "3     I'm too young.          i'm not            \n",
              "4        It's water.      it's is water          \n",
              "5    He was invited.           he was            \n",
              "6    Here she comes.       come in here          \n",
              "7     I freaked out.           i'm am            \n",
              "8      Be objective.  it's everything            \n",
              "9   Dinner is ready.          it's is            \n",
              "10   Do you deny it?        you're it            \n",
              "11  It is up to you.         it do know          \n",
              "12      That's milk.          it's is            \n",
              "13  Did you miss me?           do i see          \n",
              "14     I was scared.          i went it          "
            ]
          },
          "metadata": {
            "tags": []
          },
          "execution_count": 103
        }
      ]
    },
    {
      "cell_type": "markdown",
      "metadata": {
        "id": "FAcxj4amrLPt"
      },
      "source": [
        "checking last 15 sentences"
      ]
    },
    {
      "cell_type": "code",
      "metadata": {
        "colab": {
          "base_uri": "https://localhost:8080/",
          "height": 519
        },
        "id": "vFJ-L7YSS6Z1",
        "outputId": "148972cc-9003-4f5f-e392-1c2c30ce9cde"
      },
      "source": [
        "pred_df.tail(15)"
      ],
      "execution_count": 104,
      "outputs": [
        {
          "output_type": "execute_result",
          "data": {
            "text/html": [
              "<div>\n",
              "<style scoped>\n",
              "    .dataframe tbody tr th:only-of-type {\n",
              "        vertical-align: middle;\n",
              "    }\n",
              "\n",
              "    .dataframe tbody tr th {\n",
              "        vertical-align: top;\n",
              "    }\n",
              "\n",
              "    .dataframe thead th {\n",
              "        text-align: right;\n",
              "    }\n",
              "</style>\n",
              "<table border=\"1\" class=\"dataframe\">\n",
              "  <thead>\n",
              "    <tr style=\"text-align: right;\">\n",
              "      <th></th>\n",
              "      <th>actual</th>\n",
              "      <th>predicted</th>\n",
              "    </tr>\n",
              "  </thead>\n",
              "  <tbody>\n",
              "    <tr>\n",
              "      <th>2985</th>\n",
              "      <td>Listen to this!</td>\n",
              "      <td>we'll go it</td>\n",
              "    </tr>\n",
              "    <tr>\n",
              "      <th>2986</th>\n",
              "      <td>This one's mine.</td>\n",
              "      <td>it's mine</td>\n",
              "    </tr>\n",
              "    <tr>\n",
              "      <th>2987</th>\n",
              "      <td>Tom was dead.</td>\n",
              "      <td>tom was in</td>\n",
              "    </tr>\n",
              "    <tr>\n",
              "      <th>2988</th>\n",
              "      <td>Tom slapped me.</td>\n",
              "      <td>tom didn't me</td>\n",
              "    </tr>\n",
              "    <tr>\n",
              "      <th>2989</th>\n",
              "      <td>I can't help it.</td>\n",
              "      <td>i can't talk</td>\n",
              "    </tr>\n",
              "    <tr>\n",
              "      <th>2990</th>\n",
              "      <td>Tom sat quietly.</td>\n",
              "      <td>tom will us</td>\n",
              "    </tr>\n",
              "    <tr>\n",
              "      <th>2991</th>\n",
              "      <td>It makes sense.</td>\n",
              "      <td>it's it</td>\n",
              "    </tr>\n",
              "    <tr>\n",
              "      <th>2992</th>\n",
              "      <td>I hate winter.</td>\n",
              "      <td>i hate my</td>\n",
              "    </tr>\n",
              "    <tr>\n",
              "      <th>2993</th>\n",
              "      <td>Is that a dog?</td>\n",
              "      <td>is that a cat</td>\n",
              "    </tr>\n",
              "    <tr>\n",
              "      <th>2994</th>\n",
              "      <td>I recovered.</td>\n",
              "      <td>i prefer</td>\n",
              "    </tr>\n",
              "    <tr>\n",
              "      <th>2995</th>\n",
              "      <td>Is it too late?</td>\n",
              "      <td>is it serious</td>\n",
              "    </tr>\n",
              "    <tr>\n",
              "      <th>2996</th>\n",
              "      <td>I like singing.</td>\n",
              "      <td>i like to</td>\n",
              "    </tr>\n",
              "    <tr>\n",
              "      <th>2997</th>\n",
              "      <td>They said that.</td>\n",
              "      <td>she needs it</td>\n",
              "    </tr>\n",
              "    <tr>\n",
              "      <th>2998</th>\n",
              "      <td>Tom's filthy.</td>\n",
              "      <td>tom is</td>\n",
              "    </tr>\n",
              "    <tr>\n",
              "      <th>2999</th>\n",
              "      <td>I'm studying.</td>\n",
              "      <td>i have</td>\n",
              "    </tr>\n",
              "  </tbody>\n",
              "</table>\n",
              "</div>"
            ],
            "text/plain": [
              "                actual                predicted\n",
              "2985   Listen to this!    we'll go it          \n",
              "2986  This one's mine.    it's mine            \n",
              "2987     Tom was dead.     tom was in          \n",
              "2988   Tom slapped me.  tom didn't me          \n",
              "2989  I can't help it.   i can't talk          \n",
              "2990  Tom sat quietly.    tom will us          \n",
              "2991   It makes sense.      it's it            \n",
              "2992    I hate winter.      i hate my          \n",
              "2993    Is that a dog?    is that a cat        \n",
              "2994      I recovered.     i prefer            \n",
              "2995   Is it too late?  is it serious          \n",
              "2996   I like singing.      i like to          \n",
              "2997   They said that.   she needs it          \n",
              "2998     Tom's filthy.       tom is            \n",
              "2999     I'm studying.       i have            "
            ]
          },
          "metadata": {
            "tags": []
          },
          "execution_count": 104
        }
      ]
    },
    {
      "cell_type": "code",
      "metadata": {
        "colab": {
          "base_uri": "https://localhost:8080/",
          "height": 423
        },
        "id": "OXn97fXMq3_G",
        "outputId": "4ad4400d-0d0b-48d7-9998-66dddeb92382"
      },
      "source": [
        "pred_df.head(100)"
      ],
      "execution_count": 106,
      "outputs": [
        {
          "output_type": "execute_result",
          "data": {
            "text/html": [
              "<div>\n",
              "<style scoped>\n",
              "    .dataframe tbody tr th:only-of-type {\n",
              "        vertical-align: middle;\n",
              "    }\n",
              "\n",
              "    .dataframe tbody tr th {\n",
              "        vertical-align: top;\n",
              "    }\n",
              "\n",
              "    .dataframe thead th {\n",
              "        text-align: right;\n",
              "    }\n",
              "</style>\n",
              "<table border=\"1\" class=\"dataframe\">\n",
              "  <thead>\n",
              "    <tr style=\"text-align: right;\">\n",
              "      <th></th>\n",
              "      <th>actual</th>\n",
              "      <th>predicted</th>\n",
              "    </tr>\n",
              "  </thead>\n",
              "  <tbody>\n",
              "    <tr>\n",
              "      <th>0</th>\n",
              "      <td>I like rice.</td>\n",
              "      <td>i like coffee</td>\n",
              "    </tr>\n",
              "    <tr>\n",
              "      <th>1</th>\n",
              "      <td>I'll check that.</td>\n",
              "      <td>i'll be it</td>\n",
              "    </tr>\n",
              "    <tr>\n",
              "      <th>2</th>\n",
              "      <td>Tom's strict.</td>\n",
              "      <td>tom is</td>\n",
              "    </tr>\n",
              "    <tr>\n",
              "      <th>3</th>\n",
              "      <td>I'm too young.</td>\n",
              "      <td>i'm not</td>\n",
              "    </tr>\n",
              "    <tr>\n",
              "      <th>4</th>\n",
              "      <td>It's water.</td>\n",
              "      <td>it's is water</td>\n",
              "    </tr>\n",
              "    <tr>\n",
              "      <th>...</th>\n",
              "      <td>...</td>\n",
              "      <td>...</td>\n",
              "    </tr>\n",
              "    <tr>\n",
              "      <th>95</th>\n",
              "      <td>Is this a dream?</td>\n",
              "      <td>is it a joke</td>\n",
              "    </tr>\n",
              "    <tr>\n",
              "      <th>96</th>\n",
              "      <td>Tom is lost.</td>\n",
              "      <td>tom will</td>\n",
              "    </tr>\n",
              "    <tr>\n",
              "      <th>97</th>\n",
              "      <td>Are you OK?</td>\n",
              "      <td>are you well</td>\n",
              "    </tr>\n",
              "    <tr>\n",
              "      <th>98</th>\n",
              "      <td>I'm catching on.</td>\n",
              "      <td>i get</td>\n",
              "    </tr>\n",
              "    <tr>\n",
              "      <th>99</th>\n",
              "      <td>Am I boring you?</td>\n",
              "      <td>i'm i</td>\n",
              "    </tr>\n",
              "  </tbody>\n",
              "</table>\n",
              "<p>100 rows × 2 columns</p>\n",
              "</div>"
            ],
            "text/plain": [
              "              actual                predicted\n",
              "0       I like rice.  i like coffee          \n",
              "1   I'll check that.     i'll be it          \n",
              "2      Tom's strict.       tom is            \n",
              "3     I'm too young.      i'm not            \n",
              "4        It's water.  it's is water          \n",
              "..               ...                      ...\n",
              "95  Is this a dream?     is it a joke        \n",
              "96      Tom is lost.     tom will            \n",
              "97       Are you OK?   are you well          \n",
              "98  I'm catching on.        i get            \n",
              "99  Am I boring you?        i'm i            \n",
              "\n",
              "[100 rows x 2 columns]"
            ]
          },
          "metadata": {
            "tags": []
          },
          "execution_count": 106
        }
      ]
    }
  ]
}